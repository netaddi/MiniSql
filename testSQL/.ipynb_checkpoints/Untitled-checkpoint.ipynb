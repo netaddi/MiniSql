{
 "cells": [
  {
   "cell_type": "code",
   "execution_count": 27,
   "metadata": {
    "collapsed": false
   },
   "outputs": [],
   "source": [
    "import hashlib\n",
    "m = hashlib.md5()\n",
    "\n",
    "scale = 100000\n",
    "f = open(\"pressure_\" + str(scale) + \".sql\", 'a')\n",
    "for i in range(0, scale):\n",
    "    m.update(str(i).encode('utf-8'))\n",
    "    sqlStr = \"insert into pressure values (\" + str(i) + \", \\\"\" + m.hexdigest() + \"\\\", \" + str(i / 1000) + \");\\n\"\n",
    "    f.write(sqlStr)\n",
    "f.close()"
   ]
  }
 ],
 "metadata": {
  "anaconda-cloud": {},
  "kernelspec": {
   "display_name": "Python [conda root]",
   "language": "python",
   "name": "conda-root-py"
  },
  "language_info": {
   "codemirror_mode": {
    "name": "ipython",
    "version": 3
   },
   "file_extension": ".py",
   "mimetype": "text/x-python",
   "name": "python",
   "nbconvert_exporter": "python",
   "pygments_lexer": "ipython3",
   "version": "3.5.2"
  }
 },
 "nbformat": 4,
 "nbformat_minor": 1
}
